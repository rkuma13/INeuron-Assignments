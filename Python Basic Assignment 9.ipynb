{
 "cells": [
  {
   "cell_type": "markdown",
   "id": "63af4667",
   "metadata": {},
   "source": [
    "# Python Basic Assignment 9"
   ]
  },
  {
   "cell_type": "code",
   "execution_count": null,
   "id": "d624e73c",
   "metadata": {},
   "outputs": [],
   "source": [
    "1. To what does a relative path refer?\n",
    "2. What does an absolute path start with your operating system?\n",
    "3. What do the functions os.getcwd() and os.chdir() do?\n",
    "4. What are the . and .. folders?\n",
    "5. In C:\\bacon\\eggs\\spam.txt, which part is the dir name, and which part is the base name?\n",
    "6. What are the three “mode” arguments that can be passed to the open() function?\n",
    "7. What happens if an existing file is opened in write mode?\n",
    "8. How do you tell the difference between read() and readlines()?\n",
    "9. What data structure does a shelf value resemble?"
   ]
  },
  {
   "cell_type": "code",
   "execution_count": null,
   "id": "b30e0e21",
   "metadata": {},
   "outputs": [],
   "source": []
  },
  {
   "cell_type": "markdown",
   "id": "84054a51",
   "metadata": {},
   "source": [
    "1. To what does a relative path refer?\n",
    "\n",
    "Ans: \n",
    "    Relative paths are relative to the current working directory. When using relative\n",
    "    path, we need to provide the absolute/complete path of file from the root directory, \n",
    "    instead we can give the partial/relative path to indicate the file location.\n",
    "    "
   ]
  },
  {
   "cell_type": "markdown",
   "id": "37a9a008",
   "metadata": {},
   "source": [
    "-----------------------------------------------------------------"
   ]
  },
  {
   "cell_type": "markdown",
   "id": "7cac60bc",
   "metadata": {},
   "source": [
    "2. What does an absolute path start with your operating system?\n",
    "\n",
    "Ans:\n",
    "    For windows operating system , path starts with C:\\"
   ]
  },
  {
   "cell_type": "markdown",
   "id": "8cd29276",
   "metadata": {},
   "source": [
    "-----------------------------------------------"
   ]
  },
  {
   "cell_type": "markdown",
   "id": "bcaf22f7",
   "metadata": {},
   "source": [
    "3. What do the functions os.getcwd() and os.chdir() do?\n",
    "\n",
    "Ans: \n",
    "    os.getcwd() returns you the current working directory path\n",
    "    os.chdir() as used to change the current working directory while running the program"
   ]
  },
  {
   "cell_type": "markdown",
   "id": "a54cc20d",
   "metadata": {},
   "source": [
    "-------------------------------------"
   ]
  },
  {
   "cell_type": "markdown",
   "id": "0d7171d3",
   "metadata": {},
   "source": [
    "4. What are the . and .. folders?\n",
    "\n",
    "Ans: \n",
    "    \n",
    "    . single dot means the current folder\n",
    "    .. double dot means the parent folder"
   ]
  },
  {
   "cell_type": "markdown",
   "id": "8845e459",
   "metadata": {},
   "source": [
    "----------------------------------"
   ]
  },
  {
   "cell_type": "code",
   "execution_count": null,
   "id": "9f96672d",
   "metadata": {},
   "outputs": [],
   "source": [
    "5. In C:\\bacon\\eggs\\spam.txt, which part is the dir name, and which part is the base name?\n",
    "    \n",
    "Ans: \n",
    "    C:\\bacon\\eggs is the dir name\n",
    "    spam.txt is the base name"
   ]
  },
  {
   "cell_type": "markdown",
   "id": "0d840b51",
   "metadata": {},
   "source": [
    "-------------------------------------"
   ]
  },
  {
   "cell_type": "markdown",
   "id": "1612655a",
   "metadata": {},
   "source": [
    "6. What are the three “mode” arguments that can be passed to the open() function?\n",
    "\n",
    "Ans:\n",
    "    \n",
    "    The three mode arguments that can be passed to the open() function are:\n",
    "      'r' for read mode\n",
    "      'w' for write mode\n",
    "      'a' for append mode"
   ]
  },
  {
   "cell_type": "markdown",
   "id": "c10c6e00",
   "metadata": {},
   "source": [
    "----------------------------------------------"
   ]
  },
  {
   "cell_type": "markdown",
   "id": "9758887c",
   "metadata": {},
   "source": [
    "7. What happens if an existing file is opened in write mode?\n",
    "\n",
    "Ans:\n",
    "    \n",
    "    - if an existing file is opened in write mode, then all the existing content from the file is erased\n",
    "    and the new content will be added.\n",
    "    \n",
    "    - This might result in loss of data if you wanted to have both existing and new data\n",
    "    to existing in the file"
   ]
  },
  {
   "cell_type": "markdown",
   "id": "7105fdc7",
   "metadata": {},
   "source": [
    "--------------------------------------"
   ]
  },
  {
   "cell_type": "markdown",
   "id": "489fbf32",
   "metadata": {},
   "source": [
    "8. How do you tell the difference between read() and readlines()?\n",
    "\n",
    "Ans:\n",
    "    \n",
    "   - The read() method returns the file's entire contents as a single string value.\n",
    "   - The readines() method returns a list of strings, where each string is a line from the file's contents."
   ]
  },
  {
   "cell_type": "markdown",
   "id": "da4edc77",
   "metadata": {},
   "source": [
    "-------------------------------------"
   ]
  },
  {
   "cell_type": "code",
   "execution_count": null,
   "id": "0d1cf44a",
   "metadata": {},
   "outputs": [],
   "source": [
    "9. What data structure does a shelf value resemble?\n",
    "\n",
    "Ans:\n",
    "    \n",
    "A shelf value resembles a dictionary value; it has keys and values, along with keys() and values() methods that work similarly to the dictionary methods of the same names."
   ]
  }
 ],
 "metadata": {
  "kernelspec": {
   "display_name": "Python 3 (ipykernel)",
   "language": "python",
   "name": "python3"
  },
  "language_info": {
   "codemirror_mode": {
    "name": "ipython",
    "version": 3
   },
   "file_extension": ".py",
   "mimetype": "text/x-python",
   "name": "python",
   "nbconvert_exporter": "python",
   "pygments_lexer": "ipython3",
   "version": "3.9.12"
  }
 },
 "nbformat": 4,
 "nbformat_minor": 5
}
