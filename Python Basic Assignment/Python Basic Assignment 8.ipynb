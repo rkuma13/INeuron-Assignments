{
 "cells": [
  {
   "cell_type": "markdown",
   "id": "c4f7e7fa",
   "metadata": {},
   "source": [
    "# Python Basic Assignment 8"
   ]
  },
  {
   "cell_type": "code",
   "execution_count": null,
   "id": "5f8ab5a5",
   "metadata": {},
   "outputs": [],
   "source": [
    "1. Is the Python Standard Library included with PyInputPlus?\n",
    "2. Why is PyInputPlus commonly imported with import pyinputplus as pypi?\n",
    "3. How do you distinguish between inputInt() and inputFloat()?\n",
    "4. Using PyInputPlus, how do you ensure that the user enters a whole number between 0 and 99?\n",
    "5. What is transferred to the keyword arguments allowRegexes and blockRegexes?\n",
    "6. If a blank input is entered three times, what does inputStr(limit=3) do?\n",
    "7. If blank input is entered three times, what does inputStr(limit=3, default='hello') do?"
   ]
  },
  {
   "cell_type": "code",
   "execution_count": null,
   "id": "29d18ccc",
   "metadata": {},
   "outputs": [],
   "source": []
  },
  {
   "cell_type": "markdown",
   "id": "3a78cfb8",
   "metadata": {},
   "source": [
    "1. Is the Python Standard Library included with PyInputPlus?\n",
    "\n",
    "Ans: PyInputPlus is not part of the Python Standard Library, so we need to install it \n",
    "    seperately using Pip\n",
    "    \n",
    "    pip install PyInputPlus"
   ]
  },
  {
   "cell_type": "markdown",
   "id": "783837ca",
   "metadata": {},
   "source": [
    "--------------------------------------------------------------------"
   ]
  },
  {
   "cell_type": "markdown",
   "id": "5397dfae",
   "metadata": {},
   "source": [
    "2. Why is PyInputPlus commonly imported with import pyinputplus as pypi?\n",
    "\n",
    "Ans: \n",
    "    pypi is alias of PyInputPlus. The as pyip code in the import statement saves us \n",
    "    from typing pyInputPlus each time we want to call a PyInputPlus function. Instead we\n",
    "    can use the shorter pyip name\n",
    "    \n",
    "    import PyInputPlus as pyip"
   ]
  },
  {
   "cell_type": "markdown",
   "id": "8310e7b1",
   "metadata": {},
   "source": [
    "--------------------------------------------------------------------"
   ]
  },
  {
   "cell_type": "markdown",
   "id": "79d3a2be",
   "metadata": {},
   "source": [
    "3. How do you distinguish between inputInt() and inputFloat()?\n",
    "\n",
    "Ans: \n",
    "    inputInt() : Accepts an integer value, and returns int value\n",
    "    inputFloat : Accepts integer/floating point value and returns float value\n",
    "    \n",
    "    \n",
    "    Both takes additional parameters 'min','max' , 'greaterThan' and 'lessThan' for bounds\n",
    "    "
   ]
  },
  {
   "cell_type": "markdown",
   "id": "b4277b1b",
   "metadata": {},
   "source": [
    "--------------------------------------------------------------------"
   ]
  },
  {
   "cell_type": "markdown",
   "id": "e2ae705e",
   "metadata": {},
   "source": [
    "4. Using PyInputPlus, how do you ensure that the user enters a whole number between 0 and 99?\n",
    "\n",
    "Ans: \n",
    "    In the inputint function we can set the min = 0 and max = 99 to ensure user enters number between 0 to 99\n",
    "    \n",
    "    pyip.inputInt(min = 0, max = 99)"
   ]
  },
  {
   "cell_type": "markdown",
   "id": "73e51822",
   "metadata": {},
   "source": [
    "-------------------------------------------------------------"
   ]
  },
  {
   "cell_type": "markdown",
   "id": "11e28b07",
   "metadata": {},
   "source": [
    "5. What is transferred to the keyword arguments allowRegexes and blockRegexes?\n",
    "\n",
    "Ans: \n",
    "    We can use regular expressions to specify whether an input is allowed or not.\n",
    "    \n",
    "    The allowRegexes and blockRegexes keyword arguments take an list of regular expression\n",
    "    strings to determine what the PyInputPlus function will accept or reject as valid input.\n",
    "    \n",
    "    Example:\n",
    "        \n",
    "        pyip.inputNum(allowRegexes=[r'(I|V|X|L|C|D|M)+', r'zero']) #it allowes roman letters as numbers too\n",
    "        pyip.inputNum(blockRegexes=[r\"[02468]$\"])   #blocks the even numbers"
   ]
  },
  {
   "cell_type": "markdown",
   "id": "ea4e1393",
   "metadata": {},
   "source": [
    "--------------------------------------------------"
   ]
  },
  {
   "cell_type": "markdown",
   "id": "82ee028f",
   "metadata": {},
   "source": [
    "6. If a blank input is entered three times, what does inputStr(limit=3) do?\n",
    "\n",
    " Ans: \n",
    "    \n",
    "    inputStr(limit=3) will throw RetryLimitException exception.\n",
    "    "
   ]
  },
  {
   "cell_type": "markdown",
   "id": "2947b591",
   "metadata": {},
   "source": [
    "------------------------------------------"
   ]
  },
  {
   "cell_type": "markdown",
   "id": "29f563be",
   "metadata": {},
   "source": [
    "7. If blank input is entered three times, what does inputStr(limit=3, default='hello') do?\n",
    "\n",
    "Ans:\n",
    "   \n",
    "   When you use limit keyword arguments and also pass a default keyword argument, the function \n",
    "    returns the default value instead of raising an exception\n",
    "    "
   ]
  },
  {
   "cell_type": "code",
   "execution_count": null,
   "id": "bdae11c8",
   "metadata": {},
   "outputs": [],
   "source": []
  },
  {
   "cell_type": "code",
   "execution_count": null,
   "id": "245b5fad",
   "metadata": {},
   "outputs": [],
   "source": []
  }
 ],
 "metadata": {
  "kernelspec": {
   "display_name": "Python 3 (ipykernel)",
   "language": "python",
   "name": "python3"
  },
  "language_info": {
   "codemirror_mode": {
    "name": "ipython",
    "version": 3
   },
   "file_extension": ".py",
   "mimetype": "text/x-python",
   "name": "python",
   "nbconvert_exporter": "python",
   "pygments_lexer": "ipython3",
   "version": "3.9.12"
  }
 },
 "nbformat": 4,
 "nbformat_minor": 5
}
