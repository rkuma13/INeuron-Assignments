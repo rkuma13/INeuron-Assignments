{
 "cells": [
  {
   "cell_type": "markdown",
   "id": "00fcf9fe",
   "metadata": {},
   "source": [
    "# Python Basic Assignment 10"
   ]
  },
  {
   "cell_type": "code",
   "execution_count": null,
   "id": "75a388e0",
   "metadata": {},
   "outputs": [],
   "source": [
    "1. How do you distinguish between shutil.copy() and shutil.copytree()?\n",
    "2. What function is used to rename files??\n",
    "3. What is the difference between the delete functions in the send2trash and shutil modules?\n",
    "4.ZipFile objects have a close() method just like File objects’ close() method. What ZipFile method is\n",
    "equivalent to File objects’ open() method?\n",
    "5. Create a programme that searches a folder tree for files with a certain file extension (such as .pdf\n",
    "or .jpg). Copy these files from whatever location they are in to a new folder."
   ]
  },
  {
   "cell_type": "code",
   "execution_count": null,
   "id": "b2003934",
   "metadata": {},
   "outputs": [],
   "source": []
  },
  {
   "cell_type": "markdown",
   "id": "23122991",
   "metadata": {},
   "source": [
    "1. How do you distinguish between shutil.copy() and shutil.copytree()?\n",
    "\n",
    "Ans:\n",
    "    \n",
    "    shutil.copy() will copy a single file and shutil.copytree() will copy an entire folder and \n",
    "    every folder and file contained in it."
   ]
  },
  {
   "cell_type": "markdown",
   "id": "4d7ad814",
   "metadata": {},
   "source": [
    "--------------------------------"
   ]
  },
  {
   "cell_type": "markdown",
   "id": "ccbf7f4c",
   "metadata": {},
   "source": [
    "2. What function is used to rename files??\n",
    "\n",
    "Ans:\n",
    "    \n",
    "    os.rename()"
   ]
  },
  {
   "cell_type": "code",
   "execution_count": null,
   "id": "eed01985",
   "metadata": {},
   "outputs": [],
   "source": []
  },
  {
   "cell_type": "markdown",
   "id": "f5c9dece",
   "metadata": {},
   "source": [
    "3. What is the difference between the delete functions in the send2trash and shutil modules?\n",
    "\n",
    "Ans:\n",
    "    \n",
    "    send2trash function move a file or folder to the recycle bin, while shutil function permanently delete file or folder."
   ]
  },
  {
   "cell_type": "code",
   "execution_count": null,
   "id": "99e3de90",
   "metadata": {},
   "outputs": [],
   "source": []
  },
  {
   "cell_type": "code",
   "execution_count": null,
   "id": "b4803957",
   "metadata": {},
   "outputs": [],
   "source": [
    "4.ZipFile objects have a close() method just like File objects’ close() method. What ZipFile method is\n",
    "equivalent to File objects’ open() method?\n",
    "\n",
    "\n",
    "Ans:\n",
    "    \n",
    "    ZipFile"
   ]
  },
  {
   "cell_type": "code",
   "execution_count": null,
   "id": "73a30869",
   "metadata": {},
   "outputs": [],
   "source": []
  },
  {
   "cell_type": "code",
   "execution_count": null,
   "id": "a01e27e3",
   "metadata": {},
   "outputs": [],
   "source": [
    "5. Create a programme that searches a folder tree for files with a certain file extension (such as .pdf\n",
    "or .jpg). Copy these files from whatever location they are in to a new folder.\n",
    "\n",
    "\n",
    "Ans:\n",
    "    \n",
    "    "
   ]
  },
  {
   "cell_type": "code",
   "execution_count": 2,
   "id": "cbd0275d",
   "metadata": {},
   "outputs": [
    {
     "name": "stdout",
     "output_type": "stream",
     "text": [
      "Files have been copied from {src} to {dst}\n"
     ]
    }
   ],
   "source": [
    "def copyFile(src, dst, ext):\n",
    "    try:\n",
    "        import os, shutil\n",
    "        for file in os.listdir(src):\n",
    "            shutil.copy(os.path.join(src,file),dst)\n",
    "        print('Files have been copied from {src} to {dst}')\n",
    "    except Exceptions as e:\n",
    "        print(e)\n",
    "        \n",
    "copyFile(r'C:\\Users\\Rajan\\Downloads\\Music', r'C:\\Users\\Rajan\\Downloads\\Video','.txt')"
   ]
  },
  {
   "cell_type": "code",
   "execution_count": null,
   "id": "3716a041",
   "metadata": {},
   "outputs": [],
   "source": []
  }
 ],
 "metadata": {
  "kernelspec": {
   "display_name": "Python 3 (ipykernel)",
   "language": "python",
   "name": "python3"
  },
  "language_info": {
   "codemirror_mode": {
    "name": "ipython",
    "version": 3
   },
   "file_extension": ".py",
   "mimetype": "text/x-python",
   "name": "python",
   "nbconvert_exporter": "python",
   "pygments_lexer": "ipython3",
   "version": "3.9.12"
  }
 },
 "nbformat": 4,
 "nbformat_minor": 5
}
